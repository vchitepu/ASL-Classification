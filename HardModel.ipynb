{
 "cells": [
  {
   "cell_type": "markdown",
   "metadata": {},
   "source": [
    "# ASL Letter Classifier: The Brogrammers\n",
    "Vinay Chitepu<br>\n",
    "Delaney Gomen<br>\n",
    "Alexandra Isaly\n",
    "\n",
    "\n",
    "<br>\n",
    "<br>\n",
    "\n",
    "**NOTE:** Make sure to unzip the files in the directory before running."
   ]
  },
  {
   "cell_type": "markdown",
   "metadata": {},
   "source": [
    "### Importing Modules and Libraries"
   ]
  },
  {
   "cell_type": "code",
   "execution_count": 1,
   "metadata": {},
   "outputs": [],
   "source": [
    "import warnings\n",
    "warnings.simplefilter(action='ignore', category=DeprecationWarning)\n",
    "warnings.simplefilter(action='ignore', category=FutureWarning)\n",
    "\n",
    "import os\n",
    "import cv2\n",
    "import numpy as np\n",
    "import pandas as pd\n",
    "import matplotlib.pyplot as plt\n",
    "\n",
    "from sklearn.metrics import accuracy_score\n",
    "from sklearn.model_selection import train_test_split\n",
    "\n",
    "from tensorflow.keras import regularizers\n",
    "from tensorflow.keras.utils import to_categorical\n",
    "from tensorflow.keras.models import Sequential, load_model\n",
    "from tensorflow.keras.losses import categorical_crossentropy\n",
    "from tensorflow.keras.layers import Dense, Dropout, Activation, Flatten, Conv2D, MaxPool2D, BatchNormalization"
   ]
  },
  {
   "cell_type": "markdown",
   "metadata": {},
   "source": [
    "### Global Variables"
   ]
  },
  {
   "cell_type": "code",
   "execution_count": 61,
   "metadata": {},
   "outputs": [],
   "source": [
    "TRAIN_DATADIR = './Training_Data'\n",
    "SCORE_DATADIR = './TestingData'\n",
    "\n",
    "CATEGORIES = ['A','B','C','D','E','F','G','H','I','K','L','M','N','O','P','Q','R','S','T','U','V','W','X','Y']"
   ]
  },
  {
   "cell_type": "markdown",
   "metadata": {},
   "source": [
    "### Loading Data"
   ]
  },
  {
   "cell_type": "code",
   "execution_count": 71,
   "metadata": {},
   "outputs": [],
   "source": [
    "def load_data(data = 'Training', img_size = 100):\n",
    "    \n",
    "    if data.upper() == 'TRAINING': d = TRAIN_DATADIR\n",
    "    elif data.upper() == 'TESTING': d = SCORE_DATADIR\n",
    "    else: print(\"Incorrect paramter\")\n",
    "    \n",
    "    data = []\n",
    "    labels = []\n",
    "    for cat in CATEGORIES:\n",
    "        count = 0\n",
    "        path = os.path.join(d, cat)\n",
    "        label = CATEGORIES.index(cat)\n",
    "        for img in os.listdir(path):\n",
    "            if count == 1500 : break\n",
    "            try:\n",
    "                img_array = cv2.imread(os.path.join(path,img))\n",
    "                img_array = cv2.resize(img_array, (img_size,img_size))\n",
    "                data.append(img_array)\n",
    "                labels.append(label)\n",
    "                count+=1\n",
    "            except Exception as e:\n",
    "                pass\n",
    "\n",
    "    # Normalizing data\n",
    "    data = np.array(data)\n",
    "    data = data.astype('float32')/255\n",
    "    \n",
    "    # One-Hot Encoding for Labels\n",
    "    labels = np.array(labels)\n",
    "    labels = to_categorical(labels)\n",
    "    \n",
    "    \n",
    "    return data, labels"
   ]
  },
  {
   "cell_type": "code",
   "execution_count": 73,
   "metadata": {},
   "outputs": [],
   "source": [
    "X_train, y_train = load_data(data='Training', img_size=64)\n",
    "X_test, y_test = load_data(data='Testing', img_size=64)"
   ]
  },
  {
   "cell_type": "markdown",
   "metadata": {},
   "source": [
    "### Checking Data"
   ]
  },
  {
   "cell_type": "code",
   "execution_count": 74,
   "metadata": {},
   "outputs": [
    {
     "data": {
      "text/plain": [
       "(2144, 64, 64, 3)"
      ]
     },
     "execution_count": 74,
     "metadata": {},
     "output_type": "execute_result"
    }
   ],
   "source": [
    "# 100x100 image but has like\n",
    "X_train.shape"
   ]
  },
  {
   "cell_type": "code",
   "execution_count": 75,
   "metadata": {},
   "outputs": [
    {
     "data": {
      "text/plain": [
       "<matplotlib.image.AxesImage at 0x1a5c847f28>"
      ]
     },
     "execution_count": 75,
     "metadata": {},
     "output_type": "execute_result"
    },
    {
     "data": {
      "image/png": "[encoded data removed]",
      "text/plain": [
       "<Figure size 432x288 with 1 Axes>"
      ]
     },
     "metadata": {},
     "output_type": "display_data"
    }
   ],
   "source": [
    "plt.imshow(X_train[45])"
   ]
  },
  {
   "cell_type": "markdown",
   "metadata": {},
   "source": [
    "### Building CNN in Tensorflow"
   ]
  },
  {
   "cell_type": "code",
   "execution_count": 76,
   "metadata": {},
   "outputs": [],
   "source": [
    "# Initializing model\n",
    "model = Sequential()\n",
    "\n",
    "# Layer 1\n",
    "model.add(Conv2D(16, kernel_size = [3,3], activation = 'relu', padding = 'same', input_shape = (64,64,3)))\n",
    "model.add(Conv2D(32, kernel_size = [3,3], padding = 'same', activation = 'relu'))\n",
    "model.add(MaxPool2D(pool_size=[3,3]))\n",
    "\n",
    "# Layer 2\n",
    "model.add(Conv2D(32, kernel_size = [3,3], padding = 'same', activation = 'relu'))\n",
    "model.add(Conv2D(64, kernel_size = [3,3], padding = 'same', activation = 'relu'))\n",
    "model.add(MaxPool2D(pool_size=[3,3]))\n",
    "\n",
    "# Layer 3\n",
    "model.add(Conv2D(128, kernel_size = [3,3], padding = 'same', activation = 'relu'))\n",
    "model.add(Conv2D(256, kernel_size = [3,3], padding = 'same', activation = 'relu'))\n",
    "model.add(MaxPool2D(pool_size=[3,3]))\n",
    "\n",
    "model.add(BatchNormalization())\n",
    "\n",
    "# Layer 4\n",
    "model.add(Flatten())  # Converts 2-D to 1-D\n",
    "model.add(Dropout(0.5))\n",
    "model.add(Dense(512, activation = 'relu', kernel_regularizer=regularizers.l2(0.001)))\n",
    "\n",
    "# Output Layer\n",
    "model.add(Dense(24, activation = 'softmax'))\n",
    "\n",
    "# Compiling Model\n",
    "model.compile(loss = categorical_crossentropy,   # There are only 2 classes\n",
    "             optimizer = 'adam',              # Optimization Function\n",
    "             metrics = ['accuracy'])          # Using accuracy"
   ]
  },
  {
   "cell_type": "code",
   "execution_count": 77,
   "metadata": {},
   "outputs": [
    {
     "name": "stdout",
     "output_type": "stream",
     "text": [
      "_________________________________________________________________\n",
      "Layer (type)                 Output Shape              Param #   \n",
      "=================================================================\n",
      "conv2d_36 (Conv2D)           (None, 64, 64, 16)        448       \n",
      "_________________________________________________________________\n",
      "conv2d_37 (Conv2D)           (None, 64, 64, 32)        4640      \n",
      "_________________________________________________________________\n",
      "max_pooling2d_18 (MaxPooling (None, 21, 21, 32)        0         \n",
      "_________________________________________________________________\n",
      "conv2d_38 (Conv2D)           (None, 21, 21, 32)        9248      \n",
      "_________________________________________________________________\n",
      "conv2d_39 (Conv2D)           (None, 21, 21, 64)        18496     \n",
      "_________________________________________________________________\n",
      "max_pooling2d_19 (MaxPooling (None, 7, 7, 64)          0         \n",
      "_________________________________________________________________\n",
      "conv2d_40 (Conv2D)           (None, 7, 7, 128)         73856     \n",
      "_________________________________________________________________\n",
      "conv2d_41 (Conv2D)           (None, 7, 7, 256)         295168    \n",
      "_________________________________________________________________\n",
      "max_pooling2d_20 (MaxPooling (None, 2, 2, 256)         0         \n",
      "_________________________________________________________________\n",
      "batch_normalization_6 (Batch (None, 2, 2, 256)         1024      \n",
      "_________________________________________________________________\n",
      "flatten_6 (Flatten)          (None, 1024)              0         \n",
      "_________________________________________________________________\n",
      "dropout_6 (Dropout)          (None, 1024)              0         \n",
      "_________________________________________________________________\n",
      "dense_12 (Dense)             (None, 512)               524800    \n",
      "_________________________________________________________________\n",
      "dense_13 (Dense)             (None, 24)                12312     \n",
      "=================================================================\n",
      "Total params: 939,992\n",
      "Trainable params: 939,480\n",
      "Non-trainable params: 512\n",
      "_________________________________________________________________\n"
     ]
    }
   ],
   "source": [
    "model.summary()"
   ]
  },
  {
   "cell_type": "markdown",
   "metadata": {},
   "source": [
    "### Training Model"
   ]
  },
  {
   "cell_type": "code",
   "execution_count": 78,
   "metadata": {
    "scrolled": true
   },
   "outputs": [
    {
     "name": "stdout",
     "output_type": "stream",
     "text": [
      "Train on 1929 samples, validate on 215 samples\n",
      "Epoch 1/6\n",
      "1929/1929 [==============================] - 18s 9ms/step - loss: 2.7951 - acc: 0.2934 - val_loss: 4.6077 - val_acc: 0.0000e+00\n",
      "Epoch 2/6\n",
      "1929/1929 [==============================] - 17s 9ms/step - loss: 1.5742 - acc: 0.6039 - val_loss: 6.2339 - val_acc: 0.0000e+00\n",
      "Epoch 3/6\n",
      "1929/1929 [==============================] - 19s 10ms/step - loss: 1.1807 - acc: 0.7076 - val_loss: 11.8320 - val_acc: 0.0000e+00\n",
      "Epoch 4/6\n",
      "1929/1929 [==============================] - 19s 10ms/step - loss: 0.9526 - acc: 0.7833 - val_loss: 11.9833 - val_acc: 0.0791\n",
      "Epoch 5/6\n",
      "1929/1929 [==============================] - 18s 9ms/step - loss: 0.8383 - acc: 0.8263 - val_loss: 12.6357 - val_acc: 0.0884\n",
      "Epoch 6/6\n",
      "1929/1929 [==============================] - 16s 8ms/step - loss: 0.7791 - acc: 0.8357 - val_loss: 11.6400 - val_acc: 0.0605\n"
     ]
    },
    {
     "data": {
      "text/plain": [
       "<tensorflow.python.keras.callbacks.History at 0x1a5c864d30>"
      ]
     },
     "execution_count": 78,
     "metadata": {},
     "output_type": "execute_result"
    }
   ],
   "source": [
    "model.fit(X_train, y_train, batch_size=8, epochs=6, validation_split=0.1)"
   ]
  },
  {
   "cell_type": "code",
   "execution_count": null,
   "metadata": {},
   "outputs": [],
   "source": []
  },
  {
   "cell_type": "markdown",
   "metadata": {},
   "source": [
    "### Exporting Model"
   ]
  },
  {
   "cell_type": "code",
   "execution_count": 85,
   "metadata": {},
   "outputs": [],
   "source": [
    "model.save('hard_model.h5')\n",
    "# model.save('hard_model_backup.h5')"
   ]
  },
  {
   "cell_type": "markdown",
   "metadata": {},
   "source": [
    "### Importing Model"
   ]
  },
  {
   "cell_type": "code",
   "execution_count": 86,
   "metadata": {},
   "outputs": [],
   "source": [
    "model = load_model('hard_model.h5')"
   ]
  },
  {
   "cell_type": "markdown",
   "metadata": {},
   "source": [
    "### Testing Model"
   ]
  },
  {
   "cell_type": "code",
   "execution_count": 87,
   "metadata": {},
   "outputs": [
    {
     "name": "stdout",
     "output_type": "stream",
     "text": [
      "717/717 [==============================] - 2s 3ms/step\n"
     ]
    },
    {
     "data": {
      "text/plain": [
       "[1.7330961573240315, 0.7573221757322176]"
      ]
     },
     "execution_count": 87,
     "metadata": {},
     "output_type": "execute_result"
    }
   ],
   "source": [
    "model.evaluate(X_test, y_test)"
   ]
  },
  {
   "cell_type": "markdown",
   "metadata": {},
   "source": [
    "### Looking at Predictions"
   ]
  },
  {
   "cell_type": "code",
   "execution_count": 80,
   "metadata": {},
   "outputs": [],
   "source": [
    "X_test, y_test = load_data(data='Testing', img_size=64)"
   ]
  },
  {
   "cell_type": "code",
   "execution_count": 81,
   "metadata": {},
   "outputs": [],
   "source": [
    "preds = model.predict_classes(X_test)"
   ]
  },
  {
   "cell_type": "code",
   "execution_count": 82,
   "metadata": {},
   "outputs": [],
   "source": [
    "preds = preds.reshape(-1)"
   ]
  },
  {
   "cell_type": "code",
   "execution_count": 84,
   "metadata": {},
   "outputs": [
    {
     "data": {
      "text/plain": [
       "array([ 0,  0,  0,  0,  0,  0,  0,  0,  0,  0,  0,  0,  0,  0,  0,  0,  0,\n",
       "        0,  0,  0,  0,  0,  0,  0,  0,  0,  0,  0,  0,  0, 16,  1,  1,  1,\n",
       "        1,  1,  1,  1,  1,  1,  1,  1,  1,  1,  1,  1,  1,  1,  1,  1,  1,\n",
       "        1,  1,  1,  1,  1,  1,  1,  1,  1, 11, 13,  0, 15,  0, 13, 15,  0,\n",
       "       15, 13,  0, 15, 13,  0, 13, 15, 13, 15, 13, 13, 15, 13, 13,  0, 13,\n",
       "       15, 13,  0, 15, 13, 16,  3,  3,  3,  3, 16,  3, 16, 16,  3,  3,  3,\n",
       "        3,  3,  3, 16,  3,  3,  3,  3,  3,  3, 16,  3,  3,  3,  3,  3,  3,\n",
       "       16,  4,  4,  4,  4,  4,  4,  4,  4,  4,  4,  4,  4,  4,  4,  4,  4,\n",
       "        4,  4,  4,  4,  4,  4,  4,  4,  4,  4, 11, 15,  5,  5,  5,  5,  5,\n",
       "        5,  5,  5,  5,  5,  5,  5,  5,  5,  5,  5,  5,  5,  5,  5,  5,  5,\n",
       "        5,  5,  5,  5,  5,  5,  5,  5,  6,  7,  6,  6,  6,  7,  6,  6,  6,\n",
       "        7,  6,  6,  6,  7,  6,  6,  6,  6,  7,  6,  6,  6,  6,  6,  6,  6,\n",
       "        7,  6,  6,  6,  7,  7,  7,  7,  7,  7,  7,  7,  7,  7,  7,  7,  7,\n",
       "        7,  6,  7,  7,  7,  7,  7,  7,  7,  7,  7,  7,  7,  7,  7,  7,  7,\n",
       "        8,  8,  8,  8,  8,  8,  8,  8,  8,  8,  8,  8,  8,  8,  8,  8,  8,\n",
       "        8,  8,  8,  8,  8,  8,  4,  8,  8,  8,  8,  8,  8,  9,  9,  9,  9,\n",
       "        9,  9,  9,  9,  9, 16,  9,  9,  9,  9, 16,  9,  9,  9,  9, 16,  9,\n",
       "        9,  9,  9,  9,  9,  9,  9,  9, 10, 10, 10, 10, 10, 10, 10, 10, 10,\n",
       "       10, 10, 10, 10, 10, 10, 10, 10, 10, 10, 10, 10, 10, 10, 10, 10, 10,\n",
       "       10, 10, 10, 10, 17, 11, 11, 11,  0, 11, 11,  0, 11, 11, 17, 11, 11,\n",
       "       11, 11, 11,  0, 11, 11,  0, 11, 11, 11,  3, 11, 11, 11, 11,  4, 11,\n",
       "       12, 12,  0, 11, 12, 12, 12, 11, 16, 12, 12, 16, 12, 11,  0, 12, 16,\n",
       "       16, 12, 12, 17,  0, 12, 16, 11, 16, 12, 16, 12, 12, 13, 13, 13, 13,\n",
       "       13, 13, 13, 13, 13, 13, 13, 13, 13, 13, 13, 13, 13, 13, 13, 13, 13,\n",
       "       13, 13, 13, 13, 13, 13, 13, 13, 13, 14, 14, 14, 14, 14, 14, 14, 14,\n",
       "       14, 14, 14, 14, 14, 14, 14, 14, 14, 14, 14, 14, 14, 14, 14, 14, 15,\n",
       "       14, 14, 14, 14, 14, 15, 15, 15, 15, 15, 15, 15, 15, 15, 15, 15, 15,\n",
       "       15, 15, 15, 15, 15, 15, 15, 15, 15, 15, 15, 15, 15, 15, 15, 15, 15,\n",
       "       15, 16, 16, 16, 16, 16, 16, 16, 16, 16, 16, 16, 16, 16, 16, 16, 16,\n",
       "       16, 16, 16, 16, 16, 16, 16, 16, 16, 16, 16, 16, 16, 16, 17, 17, 17,\n",
       "       17, 17, 17, 11, 11, 17, 17, 17, 17,  4, 17,  4, 17, 17, 11, 17,  4,\n",
       "       11, 17, 17, 17, 17, 17, 11,  4, 17, 17,  0, 18,  0, 16, 18, 16,  0,\n",
       "       18, 16, 18,  0, 18, 16, 18, 22,  0, 18, 18, 18, 16, 18,  0, 18,  0,\n",
       "       18, 16, 18, 16,  0, 18, 19, 19, 19, 19, 19, 19, 19, 19, 19, 19, 19,\n",
       "       19, 19, 19, 19, 16, 19, 19, 16, 19, 19, 19, 16, 19, 19, 16, 19, 19,\n",
       "       19, 19, 21, 20,  9, 20, 20, 21, 20, 20, 16, 20, 21, 20, 21, 20,  9,\n",
       "        9, 21, 20,  9, 21, 20, 16, 20, 20, 20,  9, 20,  9, 20, 20, 21, 21,\n",
       "       21, 21, 21, 21, 21, 21, 21, 21, 21, 21,  3, 21, 21, 21, 21, 21, 21,\n",
       "       21, 21, 21, 16, 21, 21,  3, 21, 21, 21, 21, 22, 16, 22,  3, 16, 16,\n",
       "       13, 22, 16, 22, 22, 16, 16,  9, 16, 16,  9, 13, 16, 16, 16, 22, 16,\n",
       "       16, 16, 16,  3, 16, 22, 16,  8,  4,  8,  8,  8,  8,  8,  0,  8,  8,\n",
       "        0,  8,  8,  8,  8,  8,  8,  8,  8,  8,  8,  8,  8,  8,  8,  8,  8,\n",
       "        8,  8,  0])"
      ]
     },
     "execution_count": 84,
     "metadata": {},
     "output_type": "execute_result"
    }
   ],
   "source": [
    "preds"
   ]
  },
  {
   "cell_type": "code",
   "execution_count": null,
   "metadata": {},
   "outputs": [],
   "source": []
  }
 ],
 "metadata": {
  "kernelspec": {
   "display_name": "Python 3",
   "language": "python",
   "name": "python3"
  },
  "language_info": {
   "codemirror_mode": {
    "name": "ipython",
    "version": 3
   },
   "file_extension": ".py",
   "mimetype": "text/x-python",
   "name": "python",
   "nbconvert_exporter": "python",
   "pygments_lexer": "ipython3",
   "version": "3.6.8"
  }
 },
 "nbformat": 4,
 "nbformat_minor": 2
}
